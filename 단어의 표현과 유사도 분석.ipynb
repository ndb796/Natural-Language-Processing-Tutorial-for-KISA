{
  "nbformat": 4,
  "nbformat_minor": 0,
  "metadata": {
    "colab": {
      "name": "단어의 표현과 유사도 분석",
      "provenance": [],
      "collapsed_sections": [],
      "authorship_tag": "ABX9TyOlGLePtBlxQe9piXxHpRLp",
      "include_colab_link": true
    },
    "kernelspec": {
      "name": "python3",
      "display_name": "Python 3"
    }
  },
  "cells": [
    {
      "cell_type": "markdown",
      "metadata": {
        "id": "view-in-github",
        "colab_type": "text"
      },
      "source": [
        "<a href=\"https://colab.research.google.com/github/ndb796/Natural-Language-Processing-Tutorial-for-KISA/blob/master/%EB%8B%A8%EC%96%B4%EC%9D%98%20%ED%91%9C%ED%98%84%EA%B3%BC%20%EC%9C%A0%EC%82%AC%EB%8F%84%20%EB%B6%84%EC%84%9D.ipynb\" target=\"_parent\"><img src=\"https://colab.research.google.com/assets/colab-badge.svg\" alt=\"Open In Colab\"/></a>"
      ]
    },
    {
      "cell_type": "markdown",
      "metadata": {
        "id": "iSrNbl0fYqEl",
        "colab_type": "text"
      },
      "source": [
        "<h4><b>BoW (Bag of Words)</b></h4>"
      ]
    },
    {
      "cell_type": "markdown",
      "metadata": {
        "id": "0FSos0CjY3lj",
        "colab_type": "text"
      },
      "source": [
        "* 다음과 같이 세 개의 문서가 존재한다고 가정합시다.\n",
        "  * 문서 1: \"컴퓨터가 좋아요\"\n",
        "  * 문서 2: \"컴퓨터가 좋아요, 좋아요.\"\n",
        "  * 문서 3: \"컴퓨터가 싫어요.\""
      ]
    },
    {
      "cell_type": "code",
      "metadata": {
        "id": "_vOqNSEGYpQg",
        "colab_type": "code",
        "outputId": "46ccb652-5940-46da-bd59-d7df8ed34ee0",
        "colab": {
          "base_uri": "https://localhost:8080/",
          "height": 87
        }
      },
      "source": [
        "from sklearn.feature_extraction.text import CountVectorizer\n",
        "\n",
        "documents = [\n",
        "    '컴퓨터가 좋아요.',\n",
        "    '컴퓨터가 좋아요, 좋아요.',\n",
        "    '컴퓨터가 싫어요.'\n",
        "]\n",
        "vector = CountVectorizer()\n",
        "\n",
        "# 코퍼스로부터 각 단어의 빈도 수를 기록\n",
        "print(vector.fit_transform(documents).toarray())\n",
        "# 각 단어 별로 인덱스 확인\n",
        "print(vector.vocabulary_)"
      ],
      "execution_count": 0,
      "outputs": [
        {
          "output_type": "stream",
          "text": [
            "[[0 1 1]\n",
            " [0 2 1]\n",
            " [1 0 1]]\n",
            "{'컴퓨터가': 2, '좋아요': 1, '싫어요': 0}\n"
          ],
          "name": "stdout"
        }
      ]
    },
    {
      "cell_type": "markdown",
      "metadata": {
        "id": "jDeNQzwdV3hV",
        "colab_type": "text"
      },
      "source": [
        "<h4><b>유클리드 거리 계산 예시 1)</b></h4>"
      ]
    },
    {
      "cell_type": "markdown",
      "metadata": {
        "id": "QhpP3dj6VTc8",
        "colab_type": "text"
      },
      "source": [
        "* 다음과 같이 세 개의 문서가 존재한다고 가정합시다.\n",
        "  * 문서 1: \"컴퓨터가 좋아요\"\n",
        "  * 문서 2: \"컴퓨터가 좋아요, 좋아요.\"\n",
        "  * 문서 3: \"컴퓨터가 싫어요.\""
      ]
    },
    {
      "cell_type": "markdown",
      "metadata": {
        "id": "xC_Yp6zmVHED",
        "colab_type": "text"
      },
      "source": [
        "* 유클리드 거리 계산 예시\n",
        "  * 결과가 작을수록 유사하다는 의미입니다."
      ]
    },
    {
      "cell_type": "code",
      "metadata": {
        "id": "sLJDRI0jVJkW",
        "colab_type": "code",
        "outputId": "d13962c9-f6a8-4651-ef9e-c46568653003",
        "colab": {
          "base_uri": "https://localhost:8080/",
          "height": 52
        }
      },
      "source": [
        "from numpy.linalg import norm\n",
        "import numpy as np\n",
        "\n",
        "def euclidean_distance(A, B):\n",
        "    return np.linalg.norm(A - B)\n",
        "\n",
        "document_1 = np.array([1, 1, 0])\n",
        "document_2 = np.array([1, 2, 0])\n",
        "document_3 = np.array([1, 0, 1])\n",
        "\n",
        "# 문서 1과 문서 2의 유클리드 거리 출력\n",
        "print(euclidean_distance(document_1, document_2))\n",
        "# 문서 1과 문서 3의 유클리드 거리 출력\n",
        "print(euclidean_distance(document_1, document_3))"
      ],
      "execution_count": 0,
      "outputs": [
        {
          "output_type": "stream",
          "text": [
            "1.0\n",
            "1.4142135623730951\n"
          ],
          "name": "stdout"
        }
      ]
    },
    {
      "cell_type": "markdown",
      "metadata": {
        "id": "Dg-vnUfBWq06",
        "colab_type": "text"
      },
      "source": [
        "<h4><b>유클리드 거리 계산 예시 2)</b></h4>"
      ]
    },
    {
      "cell_type": "markdown",
      "metadata": {
        "id": "rIghbSKBWtQt",
        "colab_type": "text"
      },
      "source": [
        "* 다음과 같이 세 개의 문서가 존재한다고 가정합시다.\n",
        "  * 문서 1: \"컴퓨터가 좋아요\"\n",
        "  * 문서 2: \"컴퓨터가 좋아요, 컴퓨터가 좋아요, 컴퓨터가 좋아요.\"\n",
        "  * 문서 3: \"컴퓨터가 싫어요.\""
      ]
    },
    {
      "cell_type": "markdown",
      "metadata": {
        "id": "UIHNnlrBWvGd",
        "colab_type": "text"
      },
      "source": [
        "* 유클리드 거리 계산 예시\n",
        "  * 결과가 작을수록 유사하다는 의미입니다.\n",
        "  * <b>본 예시에서는 유클리드 거리를 이용하는 것이 좋지 않은 결과를 보이고 있습니다.</b>"
      ]
    },
    {
      "cell_type": "code",
      "metadata": {
        "id": "atAn6bZrWxA1",
        "colab_type": "code",
        "outputId": "0950f91a-6414-4474-dfa4-5c4540f8f491",
        "colab": {
          "base_uri": "https://localhost:8080/",
          "height": 52
        }
      },
      "source": [
        "from numpy.linalg import norm\n",
        "import numpy as np\n",
        "\n",
        "def euclidean_distance(A, B):\n",
        "    return np.linalg.norm(A - B)\n",
        "\n",
        "document_1 = np.array([1, 1, 0])\n",
        "document_2 = np.array([3, 3, 0])\n",
        "document_3 = np.array([1, 0, 1])\n",
        "\n",
        "# 문서 1과 문서 2의 유클리드 거리 출력\n",
        "print(euclidean_distance(document_1, document_2))\n",
        "# 문서 1과 문서 3의 유클리드 거리 출력\n",
        "print(euclidean_distance(document_1, document_3))"
      ],
      "execution_count": 0,
      "outputs": [
        {
          "output_type": "stream",
          "text": [
            "2.8284271247461903\n",
            "1.4142135623730951\n"
          ],
          "name": "stdout"
        }
      ]
    },
    {
      "cell_type": "markdown",
      "metadata": {
        "id": "jT-tqzn3V7Bz",
        "colab_type": "text"
      },
      "source": [
        "<h4><b>코사인 유사도</b></h4>"
      ]
    },
    {
      "cell_type": "markdown",
      "metadata": {
        "id": "gFYqzfD-V-Lk",
        "colab_type": "text"
      },
      "source": [
        "* 다음과 같이 세 개의 문서가 존재한다고 가정합시다.\n",
        "  * 문서 1: \"컴퓨터가 좋아요\"\n",
        "  * 문서 2: \"컴퓨터가 좋아요, 컴퓨터가 좋아요, 컴퓨터가 좋아요.\"\n",
        "  * 문서 3: \"컴퓨터가 싫어요.\""
      ]
    },
    {
      "cell_type": "markdown",
      "metadata": {
        "id": "U_bxufi-WB-U",
        "colab_type": "text"
      },
      "source": [
        "* 코사인 유사도 계산 예시\n",
        "  * 결과가 1에 가까울 수록 유사하다는 의미입니다."
      ]
    },
    {
      "cell_type": "code",
      "metadata": {
        "id": "5xG-hyeHVunu",
        "colab_type": "code",
        "outputId": "24658487-5799-4563-d615-f66babb7b2f1",
        "colab": {
          "base_uri": "https://localhost:8080/",
          "height": 52
        }
      },
      "source": [
        "from numpy import dot\n",
        "from numpy.linalg import norm\n",
        "import numpy as np\n",
        "\n",
        "def cosine_similarity(A, B):\n",
        "    return dot(A, B) / (norm(A) * norm(B))\n",
        "\n",
        "document_1 = np.array([1, 1, 0])\n",
        "document_2 = np.array([3, 3, 0])\n",
        "document_3 = np.array([1, 0, 1])\n",
        "\n",
        "# 문서 1과 문서 2의 코사인 유사도 출력\n",
        "print(cosine_similarity(document_1, document_2))\n",
        "# 문서 1과 문서 3의 코사인 유사도 출력\n",
        "print(cosine_similarity(document_1, document_3))"
      ],
      "execution_count": 0,
      "outputs": [
        {
          "output_type": "stream",
          "text": [
            "1.0\n",
            "0.4999999999999999\n"
          ],
          "name": "stdout"
        }
      ]
    },
    {
      "cell_type": "markdown",
      "metadata": {
        "id": "mzG8QzyYZwBf",
        "colab_type": "text"
      },
      "source": [
        "<h4><b>TF-IDF</b></h4>"
      ]
    },
    {
      "cell_type": "code",
      "metadata": {
        "id": "kCi4uKIjaCAl",
        "colab_type": "code",
        "outputId": "9c68775e-848b-4815-9b2a-667befa3eac9",
        "colab": {
          "base_uri": "https://localhost:8080/",
          "height": 34
        }
      },
      "source": [
        "import pandas as pd\n",
        "from math import log\n",
        "\n",
        "documents = [\n",
        "  '자연어 좋아요 자연어 처리 배울래요',\n",
        "  '이미지 처리 좋아요 나머진 흥미 없어요',\n",
        "  '저는 쉴래요'\n",
        "] \n",
        "\n",
        "# 전체적으로 어떤 단어들이 존재하는지 확인\n",
        "voca = list(set(w for documents in documents for w in documents.split()))\n",
        "voca.sort()\n",
        "print(voca)"
      ],
      "execution_count": 0,
      "outputs": [
        {
          "output_type": "stream",
          "text": [
            "['나머진', '배울래요', '쉴래요', '없어요', '이미지', '자연어', '저는', '좋아요', '처리', '흥미']\n"
          ],
          "name": "stdout"
        }
      ]
    },
    {
      "cell_type": "code",
      "metadata": {
        "id": "2UmMmM17aZYR",
        "colab_type": "code",
        "colab": {}
      },
      "source": [
        "# 전체 문서의 수\n",
        "n = len(documents)\n",
        "\n",
        "# TF: 특정한 문서 d에서의 특정 단어 t의 등장 횟수\n",
        "def tf(d, t):\n",
        "    return d.count(t)\n",
        "\n",
        "# DF: 특정한 단어 t가 등장한 문서의 수\n",
        "def df(t):\n",
        "    result = 0\n",
        "    for document in documents:\n",
        "        result += t in document\n",
        "    return result\n",
        "\n",
        "# IDF (Inverse Document Frequency)\n",
        "def idf(t):\n",
        "    return log(n / (df(t) + 1))\n",
        "\n",
        "# TF-IDF\n",
        "def tf_idf(d, t):\n",
        "    return tf(d, t) * idf(t)"
      ],
      "execution_count": 0,
      "outputs": []
    },
    {
      "cell_type": "code",
      "metadata": {
        "id": "FkIsuHvdabvF",
        "colab_type": "code",
        "outputId": "65c3e230-1953-44d5-f506-0b4fe145a60d",
        "colab": {
          "base_uri": "https://localhost:8080/",
          "height": 136
        }
      },
      "source": [
        "result = []\n",
        "\n",
        "# 모든 문서에 대해서\n",
        "for d in documents:\n",
        "    result.append([]) # TF 결과를 담을 리스트\n",
        "    for t in voca:\n",
        "        result[-1].append(tf(d, t))\n",
        "\n",
        "tf_ = pd.DataFrame(result, columns=voca)\n",
        "tf_"
      ],
      "execution_count": 0,
      "outputs": [
        {
          "output_type": "execute_result",
          "data": {
            "text/html": [
              "<div>\n",
              "<style scoped>\n",
              "    .dataframe tbody tr th:only-of-type {\n",
              "        vertical-align: middle;\n",
              "    }\n",
              "\n",
              "    .dataframe tbody tr th {\n",
              "        vertical-align: top;\n",
              "    }\n",
              "\n",
              "    .dataframe thead th {\n",
              "        text-align: right;\n",
              "    }\n",
              "</style>\n",
              "<table border=\"1\" class=\"dataframe\">\n",
              "  <thead>\n",
              "    <tr style=\"text-align: right;\">\n",
              "      <th></th>\n",
              "      <th>나머진</th>\n",
              "      <th>배울래요</th>\n",
              "      <th>쉴래요</th>\n",
              "      <th>없어요</th>\n",
              "      <th>이미지</th>\n",
              "      <th>자연어</th>\n",
              "      <th>저는</th>\n",
              "      <th>좋아요</th>\n",
              "      <th>처리</th>\n",
              "      <th>흥미</th>\n",
              "    </tr>\n",
              "  </thead>\n",
              "  <tbody>\n",
              "    <tr>\n",
              "      <th>0</th>\n",
              "      <td>0</td>\n",
              "      <td>1</td>\n",
              "      <td>0</td>\n",
              "      <td>0</td>\n",
              "      <td>0</td>\n",
              "      <td>2</td>\n",
              "      <td>0</td>\n",
              "      <td>1</td>\n",
              "      <td>1</td>\n",
              "      <td>0</td>\n",
              "    </tr>\n",
              "    <tr>\n",
              "      <th>1</th>\n",
              "      <td>1</td>\n",
              "      <td>0</td>\n",
              "      <td>0</td>\n",
              "      <td>1</td>\n",
              "      <td>1</td>\n",
              "      <td>0</td>\n",
              "      <td>0</td>\n",
              "      <td>1</td>\n",
              "      <td>1</td>\n",
              "      <td>1</td>\n",
              "    </tr>\n",
              "    <tr>\n",
              "      <th>2</th>\n",
              "      <td>0</td>\n",
              "      <td>0</td>\n",
              "      <td>1</td>\n",
              "      <td>0</td>\n",
              "      <td>0</td>\n",
              "      <td>0</td>\n",
              "      <td>1</td>\n",
              "      <td>0</td>\n",
              "      <td>0</td>\n",
              "      <td>0</td>\n",
              "    </tr>\n",
              "  </tbody>\n",
              "</table>\n",
              "</div>"
            ],
            "text/plain": [
              "   나머진  배울래요  쉴래요  없어요  이미지  자연어  저는  좋아요  처리  흥미\n",
              "0    0     1    0    0    0    2   0    1   1   0\n",
              "1    1     0    0    1    1    0   0    1   1   1\n",
              "2    0     0    1    0    0    0   1    0   0   0"
            ]
          },
          "metadata": {
            "tags": []
          },
          "execution_count": 7
        }
      ]
    },
    {
      "cell_type": "code",
      "metadata": {
        "id": "thfsoe--adAt",
        "colab_type": "code",
        "outputId": "c7657fa9-27f7-4a52-abce-3607992e1c3d",
        "colab": {
          "base_uri": "https://localhost:8080/",
          "height": 343
        }
      },
      "source": [
        "result = []\n",
        "\n",
        "# 모든 단어에 대해서\n",
        "for t in voca:\n",
        "    result.append(idf(t)) # IDF 결과를 담을 리스트\n",
        "\n",
        "idf_ = pd.DataFrame(result, index=voca, columns=[\"IDF\"])\n",
        "idf_"
      ],
      "execution_count": 0,
      "outputs": [
        {
          "output_type": "execute_result",
          "data": {
            "text/html": [
              "<div>\n",
              "<style scoped>\n",
              "    .dataframe tbody tr th:only-of-type {\n",
              "        vertical-align: middle;\n",
              "    }\n",
              "\n",
              "    .dataframe tbody tr th {\n",
              "        vertical-align: top;\n",
              "    }\n",
              "\n",
              "    .dataframe thead th {\n",
              "        text-align: right;\n",
              "    }\n",
              "</style>\n",
              "<table border=\"1\" class=\"dataframe\">\n",
              "  <thead>\n",
              "    <tr style=\"text-align: right;\">\n",
              "      <th></th>\n",
              "      <th>IDF</th>\n",
              "    </tr>\n",
              "  </thead>\n",
              "  <tbody>\n",
              "    <tr>\n",
              "      <th>나머진</th>\n",
              "      <td>0.405465</td>\n",
              "    </tr>\n",
              "    <tr>\n",
              "      <th>배울래요</th>\n",
              "      <td>0.405465</td>\n",
              "    </tr>\n",
              "    <tr>\n",
              "      <th>쉴래요</th>\n",
              "      <td>0.405465</td>\n",
              "    </tr>\n",
              "    <tr>\n",
              "      <th>없어요</th>\n",
              "      <td>0.405465</td>\n",
              "    </tr>\n",
              "    <tr>\n",
              "      <th>이미지</th>\n",
              "      <td>0.405465</td>\n",
              "    </tr>\n",
              "    <tr>\n",
              "      <th>자연어</th>\n",
              "      <td>0.405465</td>\n",
              "    </tr>\n",
              "    <tr>\n",
              "      <th>저는</th>\n",
              "      <td>0.405465</td>\n",
              "    </tr>\n",
              "    <tr>\n",
              "      <th>좋아요</th>\n",
              "      <td>0.000000</td>\n",
              "    </tr>\n",
              "    <tr>\n",
              "      <th>처리</th>\n",
              "      <td>0.000000</td>\n",
              "    </tr>\n",
              "    <tr>\n",
              "      <th>흥미</th>\n",
              "      <td>0.405465</td>\n",
              "    </tr>\n",
              "  </tbody>\n",
              "</table>\n",
              "</div>"
            ],
            "text/plain": [
              "           IDF\n",
              "나머진   0.405465\n",
              "배울래요  0.405465\n",
              "쉴래요   0.405465\n",
              "없어요   0.405465\n",
              "이미지   0.405465\n",
              "자연어   0.405465\n",
              "저는    0.405465\n",
              "좋아요   0.000000\n",
              "처리    0.000000\n",
              "흥미    0.405465"
            ]
          },
          "metadata": {
            "tags": []
          },
          "execution_count": 8
        }
      ]
    },
    {
      "cell_type": "code",
      "metadata": {
        "id": "2RfPMpQwccoP",
        "colab_type": "code",
        "outputId": "040427f4-a836-4e02-951f-cb30db4d6006",
        "colab": {
          "base_uri": "https://localhost:8080/",
          "height": 136
        }
      },
      "source": [
        "result = []\n",
        "\n",
        "# 모든 문서에 대해서\n",
        "for d in documents:\n",
        "    result.append([])\n",
        "    for t in voca:\n",
        "        result[-1].append(tf_idf(d, t)) # TF-IDF 결과를 담을 리스트\n",
        "\n",
        "tf_idf_ = pd.DataFrame(result, columns = voca)\n",
        "tf_idf_"
      ],
      "execution_count": 0,
      "outputs": [
        {
          "output_type": "execute_result",
          "data": {
            "text/html": [
              "<div>\n",
              "<style scoped>\n",
              "    .dataframe tbody tr th:only-of-type {\n",
              "        vertical-align: middle;\n",
              "    }\n",
              "\n",
              "    .dataframe tbody tr th {\n",
              "        vertical-align: top;\n",
              "    }\n",
              "\n",
              "    .dataframe thead th {\n",
              "        text-align: right;\n",
              "    }\n",
              "</style>\n",
              "<table border=\"1\" class=\"dataframe\">\n",
              "  <thead>\n",
              "    <tr style=\"text-align: right;\">\n",
              "      <th></th>\n",
              "      <th>나머진</th>\n",
              "      <th>배울래요</th>\n",
              "      <th>쉴래요</th>\n",
              "      <th>없어요</th>\n",
              "      <th>이미지</th>\n",
              "      <th>자연어</th>\n",
              "      <th>저는</th>\n",
              "      <th>좋아요</th>\n",
              "      <th>처리</th>\n",
              "      <th>흥미</th>\n",
              "    </tr>\n",
              "  </thead>\n",
              "  <tbody>\n",
              "    <tr>\n",
              "      <th>0</th>\n",
              "      <td>0.000000</td>\n",
              "      <td>0.405465</td>\n",
              "      <td>0.000000</td>\n",
              "      <td>0.000000</td>\n",
              "      <td>0.000000</td>\n",
              "      <td>0.81093</td>\n",
              "      <td>0.000000</td>\n",
              "      <td>0.0</td>\n",
              "      <td>0.0</td>\n",
              "      <td>0.000000</td>\n",
              "    </tr>\n",
              "    <tr>\n",
              "      <th>1</th>\n",
              "      <td>0.405465</td>\n",
              "      <td>0.000000</td>\n",
              "      <td>0.000000</td>\n",
              "      <td>0.405465</td>\n",
              "      <td>0.405465</td>\n",
              "      <td>0.00000</td>\n",
              "      <td>0.000000</td>\n",
              "      <td>0.0</td>\n",
              "      <td>0.0</td>\n",
              "      <td>0.405465</td>\n",
              "    </tr>\n",
              "    <tr>\n",
              "      <th>2</th>\n",
              "      <td>0.000000</td>\n",
              "      <td>0.000000</td>\n",
              "      <td>0.405465</td>\n",
              "      <td>0.000000</td>\n",
              "      <td>0.000000</td>\n",
              "      <td>0.00000</td>\n",
              "      <td>0.405465</td>\n",
              "      <td>0.0</td>\n",
              "      <td>0.0</td>\n",
              "      <td>0.000000</td>\n",
              "    </tr>\n",
              "  </tbody>\n",
              "</table>\n",
              "</div>"
            ],
            "text/plain": [
              "        나머진      배울래요       쉴래요       없어요  ...        저는  좋아요   처리        흥미\n",
              "0  0.000000  0.405465  0.000000  0.000000  ...  0.000000  0.0  0.0  0.000000\n",
              "1  0.405465  0.000000  0.000000  0.405465  ...  0.000000  0.0  0.0  0.405465\n",
              "2  0.000000  0.000000  0.405465  0.000000  ...  0.405465  0.0  0.0  0.000000\n",
              "\n",
              "[3 rows x 10 columns]"
            ]
          },
          "metadata": {
            "tags": []
          },
          "execution_count": 9
        }
      ]
    }
  ]
}